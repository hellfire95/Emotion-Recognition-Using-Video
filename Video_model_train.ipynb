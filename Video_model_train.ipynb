{
 "cells": [
  {
   "attachments": {},
   "cell_type": "markdown",
   "metadata": {},
   "source": [
    "# Video Stream train"
   ]
  },
  {
   "cell_type": "code",
   "execution_count": 1,
   "metadata": {},
   "outputs": [
    {
     "name": "stderr",
     "output_type": "stream",
     "text": [
      "c:\\Users\\aruna\\AppData\\Local\\Programs\\Python\\Python311\\Lib\\site-packages\\tqdm\\auto.py:21: TqdmWarning: IProgress not found. Please update jupyter and ipywidgets. See https://ipywidgets.readthedocs.io/en/stable/user_install.html\n",
      "  from .autonotebook import tqdm as notebook_tqdm\n"
     ]
    }
   ],
   "source": [
    "import numpy as np\n",
    "# import pandas as pd\n",
    "import matplotlib.pyplot as plt\n",
    "import os\n",
    "import random\n",
    "from datetime import datetime\n",
    "\n",
    "import tensorflow as tf\n",
    "\n",
    "# Keras module and tools\n",
    "from keras.callbacks import ReduceLROnPlateau, EarlyStopping, ModelCheckpoint\n",
    "from keras.layers import Input, Flatten, Conv2D, BatchNormalization, Activation, MaxPooling2D, Dense, Dropout\n",
    "from keras.layers import RandomFlip, CenterCrop, RandomZoom\n",
    "from keras.metrics import sparse_categorical_accuracy, sparse_top_k_categorical_accuracy\n",
    "from keras.losses import sparse_categorical_crossentropy\n",
    "from keras.models import Model, Sequential\n",
    "from keras.optimizers import Adam\n",
    "from keras_cv.layers import RandomCutout\n",
    "import keras_tuner"
   ]
  },
  {
   "cell_type": "code",
   "execution_count": 2,
   "metadata": {},
   "outputs": [],
   "source": [
    "emotions_tras = {1:1, 2:4, 3:5, 4:0, 5:3, 6:2, 7:6} # to match the audio stream labels\n",
    "emotions = {0:'angry', 1:'calm', 2:'disgust', 3:'fear', 4:'happy', 5:'sad', 6:'surprise'}\n",
    "\n",
    "path_frames = \"data_frames/\"\n",
    "\n",
    "height_orig = 224\n",
    "width_orig = 224\n",
    "width_orig_full = 398\n",
    "height_targ = 112\n",
    "width_targ = 112\n",
    "\n",
    "batch_size = 64\n",
    "num_classes = len(emotions)\n",
    "\n",
    "val_actors = ['19', '20']\n",
    "test_actors = ['21', '22', '23', '24']"
   ]
  },
  {
   "attachments": {},
   "cell_type": "markdown",
   "metadata": {},
   "source": [
    "## Model \n"
   ]
  },
  {
   "attachments": {},
   "cell_type": "markdown",
   "metadata": {},
   "source": [
    "#### data preparation"
   ]
  },
  {
   "cell_type": "code",
   "execution_count": 3,
   "metadata": {},
   "outputs": [],
   "source": [
    "#  collecting file paths and labels for training and validation data\n",
    "filenames_train = [] # train\n",
    "filenames_val = [] # validation\n",
    "\n",
    "for (dirpath, dirnames, fn) in os.walk(path_frames):\n",
    "    if fn != []:\n",
    "        class_temp = int(fn[0].split('-')[2]) - 1\n",
    "        if class_temp != 0:                                                     # exclude 'neutral' label\n",
    "            if any(act in dirpath for act in (test_actors+val_actors))==False:  # select only train actors\n",
    "                path = [os.path.join(dirpath, elem) for elem in fn]\n",
    "                label = [emotions_tras[class_temp]] * len(fn)                   # emotion transposition\n",
    "                filenames_train.append(list(zip(path, label)))\n",
    "            \n",
    "            if any(act in dirpath for act in val_actors):                       # select only validation actors\n",
    "                path = [os.path.join(dirpath, elem) for elem in fn]\n",
    "                label = [emotions_tras[class_temp]] * len(fn)\n",
    "                filenames_val.append(list(zip(path, label)))"
   ]
  },
  {
   "cell_type": "code",
   "execution_count": 4,
   "metadata": {},
   "outputs": [],
   "source": [
    "#  function takes a list and a desired number of frames,\n",
    "#  It performs sampling by randomly selecting num_frames_desired frames from each element in the list. \n",
    "#  The sampled frames are then collected into a new list \n",
    "def sampling(list, num_frames_desired):\n",
    "    tot = []\n",
    "    for elem in list:\n",
    "        sampled_list = random.sample(elem, num_frames_desired)\n",
    "        tot += sampled_list\n",
    "    return(tot)\n",
    "\n",
    "# function takes a filename as input. It reads the image file using TensorFlow's function,\n",
    "# decodes the image  with 1 channel (grayscale), converts the image to tf.float16 data type\n",
    "def parse_image(filename):\n",
    "    image = tf.io.read_file(filename)\n",
    "    image = tf.image.decode_jpeg(image, channels=1)\n",
    "    image = tf.image.convert_image_dtype(image, dtype=tf.float16)\n",
    "    image = tf.image.resize_with_crop_or_pad(image, height_orig, width_orig)\n",
    "    image = tf.image.resize(image, [height_targ, width_targ])\n",
    "    print('shape frames:', image.shape)\n",
    "    return image\n",
    "\n",
    "#  function takes a dataset (ds) as input and applies performance optimization configurations to it\n",
    "def configure_for_performance(ds):\n",
    "    # shuffles the dataset using a buffer size of 1000\n",
    "    ds = ds.shuffle(buffer_size=1000) # serve?\n",
    "    ds = ds.batch(batch_size)\n",
    "    ds = ds.repeat()\n",
    "    ds = ds.prefetch(buffer_size=tf.data.experimental.AUTOTUNE)\n",
    "    return ds\n",
    "\n",
    "# loads and prepares a dataset for training\n",
    "def load_dataset(filenames, batch_size):\n",
    "    frames_per_vid = min([len(elem) for elem in filenames])     # number of frames per clip in order to have balanced classes\n",
    "    print(\"frames per video:\", frames_per_vid) \n",
    "\n",
    "    filenames_sampled = sampling(filenames, frames_per_vid)\n",
    "    random.shuffle(filenames_sampled)\n",
    "\n",
    "    zipped = [list(t) for t in zip(*filenames_sampled)]\n",
    "\n",
    "    names = zipped[0]\n",
    "    labels = zipped[1]\n",
    "\n",
    "    names = tf.data.Dataset.from_tensor_slices(names)\n",
    "    images = names.map(parse_image, num_parallel_calls=tf.data.experimental.AUTOTUNE)\n",
    "\n",
    "    labels = [elem for elem in labels]\n",
    "    labels = tf.data.Dataset.from_tensor_slices(labels)\n",
    "\n",
    "    ds = tf.data.Dataset.zip((images, labels))\n",
    "    ds = configure_for_performance(ds)\n",
    "\n",
    "    frame_number = len(filenames_sampled)\n",
    "    step_per_epoch = frame_number // batch_size\n",
    "    print('frames number:', frame_number, '\\nbatch size:', batch_size, '\\nbatch number:', step_per_epoch)\n",
    "    return ds, step_per_epoch"
   ]
  },
  {
   "cell_type": "code",
   "execution_count": 5,
   "metadata": {},
   "outputs": [
    {
     "name": "stdout",
     "output_type": "stream",
     "text": [
      "frames per video: 23\n",
      "shape frames: (112, 112, 1)\n",
      "frames number: 46322 \n",
      "batch size: 64 \n",
      "batch number: 723\n"
     ]
    }
   ],
   "source": [
    "# Calling the functions\n",
    "train_ds, step_per_epoch_train = load_dataset(filenames_train, batch_size)"
   ]
  },
  {
   "cell_type": "code",
   "execution_count": 6,
   "metadata": {},
   "outputs": [
    {
     "name": "stdout",
     "output_type": "stream",
     "text": [
      "frames per video: 24\n",
      "shape frames: (112, 112, 1)\n",
      "frames number: 5376 \n",
      "batch size: 64 \n",
      "batch number: 84\n"
     ]
    }
   ],
   "source": [
    "val_ds, step_per_epoch_val = load_dataset(filenames_val, batch_size)"
   ]
  },
  {
   "attachments": {},
   "cell_type": "markdown",
   "metadata": {},
   "source": [
    "#### Augmentation"
   ]
  },
  {
   "cell_type": "code",
   "execution_count": 7,
   "metadata": {},
   "outputs": [],
   "source": [
    "data_augmentation = tf.keras.Sequential([\n",
    "    # This layer performs random horizontal flipping of the input images.\n",
    "    # It randomly flips each image horizontally with a probability of 0.5, resulting in mirrored images.\n",
    "    RandomFlip(\"horizontal\"),\n",
    "    \n",
    "])"
   ]
  },
  {
   "attachments": {},
   "cell_type": "markdown",
   "metadata": {},
   "source": [
    "#### Example"
   ]
  },
  {
   "cell_type": "code",
   "execution_count": 8,
   "metadata": {},
   "outputs": [
    {
     "name": "stdout",
     "output_type": "stream",
     "text": [
      "(112, 112, 1)\n"
     ]
    },
    {
     "data": {
      "text/plain": [
       "(-0.5, 111.5, 111.5, -0.5)"
      ]
     },
     "execution_count": 8,
     "metadata": {},
     "output_type": "execute_result"
    },
    {
     "data": {
      "image/png": "[encoded data removed]",
      "text/plain": [
       "<Figure size 640x480 with 1 Axes>"
      ]
     },
     "metadata": {},
     "output_type": "display_data"
    }
   ],
   "source": [
    "examples = train_ds.unbatch().take(1)\n",
    "\n",
    "for elem in examples:\n",
    "    print(elem[0].shape)\n",
    "plt.imshow(elem[0], cmap='gray')\n",
    "plt.title(emotions[int(elem[1])], fontdict={'fontsize': 24})\n",
    "plt.axis('off')\n",
    "# plt.savefig('Plots/model3_input.png')\n"
   ]
  },
  {
   "attachments": {},
   "cell_type": "markdown",
   "metadata": {},
   "source": [
    "#### Net Architecture"
   ]
  },
  {
   "cell_type": "code",
   "execution_count": 74,
   "metadata": {},
   "outputs": [],
   "source": [
    "# Change the epochs for more accuracy\n",
    "epochs = 2\n",
    "lr = 0.001\n",
    "momentum = 0.5"
   ]
  },
  {
   "attachments": {},
   "cell_type": "markdown",
   "metadata": {},
   "source": [
    " saving the best model weights, reducing the learning rate if necessary, and early stopping based on the validation accuracy during training."
   ]
  },
  {
   "cell_type": "code",
   "execution_count": 75,
   "metadata": {},
   "outputs": [],
   "source": [
    "checkpoint_filepath = f'./Models/Video_stream/video_model_{datetime.now().strftime(\"%d-%m-%y_%H-%M\")}_' + '[{val_sparse_categorical_accuracy:.4f}]_face.hdf5'\n",
    "\n",
    "reduce_lr = ReduceLROnPlateau(monitor=\"val_sparse_categorical_accuracy\", factor=0.5, patience=2, verbose=1)\n",
    "early_stop = EarlyStopping( monitor=\"val_sparse_categorical_accuracy\", patience=4, verbose=1, restore_best_weights=True)\n",
    "save_best = ModelCheckpoint(filepath=checkpoint_filepath,\n",
    "                                            monitor='val_sparse_categorical_accuracy',\n",
    "                                            mode='max',\n",
    "                                            save_best_only=True)"
   ]
  },
  {
   "attachments": {},
   "cell_type": "markdown",
   "metadata": {},
   "source": [
    "The model is a convolutional neural network (CNN) with several convolutional layers followed by max pooling and dropout regularization. It also includes batch normalization and activation functions. The model ends with a dense layer followed by batch normalization, activation, dropout, and a final dense layer with softmax activation for multi-class classification."
   ]
  },
  {
   "cell_type": "code",
   "execution_count": 76,
   "metadata": {},
   "outputs": [
    {
     "name": "stdout",
     "output_type": "stream",
     "text": [
      "Model: \"model_7\"\n",
      "_________________________________________________________________\n",
      " Layer (type)                Output Shape              Param #   \n",
      "=================================================================\n",
      " input_10 (InputLayer)       [(None, 112, 112, 1)]     0         \n",
      "                                                                 \n",
      " sequential_3 (Sequential)   (None, 112, 112, 1)       0         \n",
      "                                                                 \n",
      " conv2d_0 (Conv2D)           (None, 112, 112, 32)      832       \n",
      "                                                                 \n",
      " batchnorm_0 (BatchNormaliza  (None, 112, 112, 32)     128       \n",
      " tion)                                                           \n",
      "                                                                 \n",
      " activation_25 (Activation)  (None, 112, 112, 32)      0         \n",
      "                                                                 \n",
      " maxpool2d_0 (MaxPooling2D)  (None, 56, 56, 32)        0         \n",
      "                                                                 \n",
      " conv2d_1 (Conv2D)           (None, 56, 56, 64)        51264     \n",
      "                                                                 \n",
      " batchnorm_1 (BatchNormaliza  (None, 56, 56, 64)       256       \n",
      " tion)                                                           \n",
      "                                                                 \n",
      " activation_26 (Activation)  (None, 56, 56, 64)        0         \n",
      "                                                                 \n",
      " maxpool2d_1 (MaxPooling2D)  (None, 28, 28, 64)        0         \n",
      "                                                                 \n",
      " dropout_1 (Dropout)         (None, 28, 28, 64)        0         \n",
      "                                                                 \n",
      " conv2d_2 (Conv2D)           (None, 28, 28, 128)       73856     \n",
      "                                                                 \n",
      " batchnorm_2 (BatchNormaliza  (None, 28, 28, 128)      512       \n",
      " tion)                                                           \n",
      "                                                                 \n",
      " activation_27 (Activation)  (None, 28, 28, 128)       0         \n",
      "                                                                 \n",
      " maxpool2d_2 (MaxPooling2D)  (None, 14, 14, 128)       0         \n",
      "                                                                 \n",
      " dropout_2 (Dropout)         (None, 14, 14, 128)       0         \n",
      "                                                                 \n",
      " conv2d_3 (Conv2D)           (None, 14, 14, 256)       295168    \n",
      "                                                                 \n",
      " batchnorm_3 (BatchNormaliza  (None, 14, 14, 256)      1024      \n",
      " tion)                                                           \n",
      "                                                                 \n",
      " activation_28 (Activation)  (None, 14, 14, 256)       0         \n",
      "                                                                 \n",
      " maxpool2d_3 (MaxPooling2D)  (None, 7, 7, 256)         0         \n",
      "                                                                 \n",
      " dropout_3 (Dropout)         (None, 7, 7, 256)         0         \n",
      "                                                                 \n",
      " flatten (Flatten)           (None, 12544)             0         \n",
      "                                                                 \n",
      " dense_1 (Dense)             (None, 128)               1605760   \n",
      "                                                                 \n",
      " batchnorm_4 (BatchNormaliza  (None, 128)              512       \n",
      " tion)                                                           \n",
      "                                                                 \n",
      " activation_29 (Activation)  (None, 128)               0         \n",
      "                                                                 \n",
      " dropout_4 (Dropout)         (None, 128)               0         \n",
      "                                                                 \n",
      " out_layer (Dense)           (None, 7)                 903       \n",
      "                                                                 \n",
      "=================================================================\n",
      "Total params: 2,030,215\n",
      "Trainable params: 2,028,999\n",
      "Non-trainable params: 1,216\n",
      "_________________________________________________________________\n"
     ]
    }
   ],
   "source": [
    "input = Input(shape=(width_targ, height_targ, 1))\n",
    "x = input\n",
    "x = data_augmentation(x)\n",
    "\n",
    "x = Conv2D(filters=32, kernel_size=(5,5), padding='same', kernel_initializer='he_normal', name='conv2d_0')(x)\n",
    "x = BatchNormalization(name='batchnorm_0')(x)\n",
    "x = Activation('elu')(x)\n",
    "x = MaxPooling2D(pool_size=(2,2), name='maxpool2d_0')(x)\n",
    "\n",
    "x = Conv2D(filters=64, kernel_size=(5,5), padding='same', kernel_initializer='he_normal', name='conv2d_1')(x)\n",
    "x = BatchNormalization(name='batchnorm_1')(x)\n",
    "x = Activation('elu')(x)\n",
    "x = MaxPooling2D(pool_size=(2,2), name='maxpool2d_1')(x)\n",
    "\n",
    "x = Dropout(0.4, name='dropout_1')(x)\n",
    "\n",
    "x = Conv2D(filters=128, kernel_size=(3,3), padding='same', kernel_initializer='he_normal', name='conv2d_2')(x)\n",
    "x = BatchNormalization(name='batchnorm_2')(x)\n",
    "x = Activation('elu')(x)\n",
    "x = MaxPooling2D(pool_size=(2,2), name='maxpool2d_2')(x)\n",
    "\n",
    "x = Dropout(0.4, name='dropout_2')(x)\n",
    "\n",
    "x = Conv2D(filters=256, kernel_size=(3,3), padding='same', kernel_initializer='he_normal', name='conv2d_3')(x)\n",
    "x = BatchNormalization(name='batchnorm_3')(x)\n",
    "x = Activation('elu')(x)\n",
    "x = MaxPooling2D(pool_size=(2,2), name='maxpool2d_3')(x)\n",
    "\n",
    "x = Dropout(0.5, name='dropout_3')(x)\n",
    "\n",
    "x = Flatten(name='flatten')(x)\n",
    "x = Dense(128, kernel_initializer='he_normal', name='dense_1')(x)\n",
    "x = BatchNormalization(name='batchnorm_4')(x)\n",
    "x = Activation('elu')(x)\n",
    "\n",
    "x = Dropout(0.6, name='dropout_4')(x)\n",
    "\n",
    "x = Dense(num_classes, activation='softmax', name='out_layer')(x)\n",
    "\n",
    "output = x\n",
    "\n",
    "net = Model(inputs=input, outputs=output)\n",
    "net.summary()"
   ]
  },
  {
   "cell_type": "code",
   "execution_count": 77,
   "metadata": {},
   "outputs": [],
   "source": [
    "net.compile(\n",
    "        optimizer = Adam(learning_rate=lr),\n",
    "        loss = sparse_categorical_crossentropy,\n",
    "        metrics = [sparse_categorical_accuracy],\n",
    "    )"
   ]
  },
  {
   "attachments": {},
   "cell_type": "markdown",
   "metadata": {},
   "source": [
    "#### Training"
   ]
  },
  {
   "cell_type": "code",
   "execution_count": null,
   "metadata": {},
   "outputs": [],
   "source": [
    "history = net.fit(train_ds,\n",
    "                    epochs=epochs,\n",
    "                    validation_data=val_ds,\n",
    "                    batch_size=batch_size,\n",
    "                    steps_per_epoch=step_per_epoch_train,\n",
    "                    validation_steps=step_per_epoch_val,\n",
    "                    callbacks=[reduce_lr, early_stop, save_best],\n",
    "                    verbose=1)"
   ]
  },
  {
   "attachments": {},
   "cell_type": "markdown",
   "metadata": {},
   "source": [
    "#### Evaluation"
   ]
  },
  {
   "cell_type": "code",
   "execution_count": null,
   "metadata": {},
   "outputs": [],
   "source": [
    "net.evaluate(val_ds,\n",
    "            batch_size=batch_size,\n",
    "            steps=step_per_epoch_val)"
   ]
  },
  {
   "cell_type": "code",
   "execution_count": 80,
   "metadata": {},
   "outputs": [
    {
     "data": {
      "image/png": "[encoded data removed]",
      "text/plain": [
       "<Figure size 640x480 with 1 Axes>"
      ]
     },
     "metadata": {},
     "output_type": "display_data"
    }
   ],
   "source": [
    "fig1 = plt.gcf()\n",
    "plt.plot(history.history['sparse_categorical_accuracy'])\n",
    "plt.plot(history.history['val_sparse_categorical_accuracy'])\n",
    "plt.axis(ymin=0, ymax=1)\n",
    "plt.grid()\n",
    "plt.title('Model Accuracy')\n",
    "plt.ylabel('Accuracy')\n",
    "plt.xlabel('Epochs')\n",
    "plt.legend(['train', 'validation'])\n",
    "plt.show()"
   ]
  },
  {
   "cell_type": "code",
   "execution_count": 81,
   "metadata": {},
   "outputs": [
    {
     "name": "stdout",
     "output_type": "stream",
     "text": [
      "              precision    recall  f1-score   support\n",
      "\n",
      "           0       0.63      0.19      0.29       768\n",
      "           1       0.40      0.22      0.28       768\n",
      "           2       0.26      0.58      0.36       768\n",
      "           3       0.18      0.63      0.28       768\n",
      "           4       0.90      0.22      0.35       768\n",
      "           5       0.84      0.07      0.12       768\n",
      "           6       0.02      0.00      0.00       768\n",
      "\n",
      "    accuracy                           0.27      5376\n",
      "   macro avg       0.46      0.27      0.24      5376\n",
      "weighted avg       0.46      0.27      0.24      5376\n",
      "\n"
     ]
    }
   ],
   "source": [
    "from sklearn.metrics import classification_report\n",
    "y_val = []\n",
    "y_pred = []\n",
    "i = 1\n",
    "for image, target in val_ds:\n",
    "  if i > step_per_epoch_val:\n",
    "    break\n",
    "  y_val.extend(target.numpy())\n",
    "  y_pred.extend(net(image, training=False).numpy().argmax(axis=1))\n",
    "  i+=1\n",
    "\n",
    "print(classification_report(y_val, y_pred))"
   ]
  },
  {
   "cell_type": "code",
   "execution_count": null,
   "metadata": {},
   "outputs": [],
   "source": []
  }
 ],
 "metadata": {
  "kernelspec": {
   "display_name": "Python 3",
   "language": "python",
   "name": "python3"
  },
  "language_info": {
   "codemirror_mode": {
    "name": "ipython",
    "version": 3
   },
   "file_extension": ".py",
   "mimetype": "text/x-python",
   "name": "python",
   "nbconvert_exporter": "python",
   "pygments_lexer": "ipython3",
   "version": "3.11.3"
  },
  "orig_nbformat": 4
 },
 "nbformat": 4,
 "nbformat_minor": 2
}
